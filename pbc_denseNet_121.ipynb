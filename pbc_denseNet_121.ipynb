{
  "cells": [
    {
      "cell_type": "code",
      "execution_count": null,
      "metadata": {
        "id": "VFGWPizmBNhE"
      },
      "outputs": [],
      "source": [
        "# a = []\n",
        "# while(1):\n",
        "#     a.append('1')"
      ]
    },
    {
      "cell_type": "code",
      "execution_count": null,
      "metadata": {
        "colab": {
          "base_uri": "https://localhost:8080/"
        },
        "id": "YKlKtszvBVJq",
        "outputId": "cd9a1f79-90a3-4a29-a9d4-3119d3c9e8c0"
      },
      "outputs": [
        {
          "output_type": "stream",
          "name": "stdout",
          "text": [
            "Mounted at /content/drive\n"
          ]
        }
      ],
      "source": [
        "from google.colab import drive\n",
        "drive.mount('/content/drive')"
      ]
    },
    {
      "cell_type": "code",
      "execution_count": null,
      "metadata": {
        "colab": {
          "base_uri": "https://localhost:8080/"
        },
        "id": "UYaAGgWtJBCd",
        "outputId": "ad25e40a-81bc-4f03-8fbf-5329d284bdfe"
      },
      "outputs": [
        {
          "output_type": "stream",
          "name": "stdout",
          "text": [
            "Collecting patool\n",
            "  Downloading patool-1.12-py2.py3-none-any.whl (77 kB)\n",
            "\u001b[?25l     \u001b[90m━━━━━━━━━━━━━━━━━━━━━━━━━━━━━━━━━━━━━━━━\u001b[0m \u001b[32m0.0/77.5 kB\u001b[0m \u001b[31m?\u001b[0m eta \u001b[36m-:--:--\u001b[0m\r\u001b[2K     \u001b[90m━━━━━━━━━━━━━━━━━━━━━━━━━━━━━━━━━━━━━━━━\u001b[0m \u001b[32m77.5/77.5 kB\u001b[0m \u001b[31m2.3 MB/s\u001b[0m eta \u001b[36m0:00:00\u001b[0m\n",
            "\u001b[?25hInstalling collected packages: patool\n",
            "Successfully installed patool-1.12\n"
          ]
        }
      ],
      "source": [
        "!pip install patool"
      ]
    },
    {
      "cell_type": "code",
      "execution_count": null,
      "metadata": {
        "colab": {
          "base_uri": "https://localhost:8080/",
          "height": 105
        },
        "id": "rH2JLy8sIgY2",
        "outputId": "3c83e54b-3838-4cda-9673-896783126bb3"
      },
      "outputs": [
        {
          "name": "stdout",
          "output_type": "stream",
          "text": [
            "patool: Extracting /content/drive/MyDrive/pbc_subset_v2.rar ...\n",
            "patool: running /usr/bin/unrar x -- /content/drive/MyDrive/pbc_subset_v2.rar\n",
            "patool:     with cwd='/content/drive/MyDrive/'\n",
            "patool: ... /content/drive/MyDrive/pbc_subset_v2.rar extracted to `/content/drive/MyDrive/'.\n"
          ]
        },
        {
          "data": {
            "application/vnd.google.colaboratory.intrinsic+json": {
              "type": "string"
            },
            "text/plain": [
              "'/content/drive/MyDrive/'"
            ]
          },
          "execution_count": 5,
          "metadata": {},
          "output_type": "execute_result"
        }
      ],
      "source": [
        "import patoolib\n",
        "\n",
        "# Extract the RAR file to a specific directory\n",
        "patoolib.extract_archive('/content/drive/MyDrive/pbc_subset_v2.rar', outdir='/content/drive/MyDrive/')"
      ]
    },
    {
      "cell_type": "code",
      "execution_count": null,
      "metadata": {
        "id": "P98QDwNbHwOa"
      },
      "outputs": [],
      "source": [
        "import os\n",
        "import cv2\n",
        "import numpy as np\n",
        "from sklearn.model_selection import train_test_split\n",
        "from tensorflow.keras.utils import to_categorical\n",
        "from tensorflow.keras.applications import DenseNet121\n",
        "from tensorflow.keras.layers import Dense, Flatten\n",
        "from tensorflow.keras.models import Model\n",
        "from tensorflow.keras.optimizers import Adam\n",
        "\n",
        "# Set the path to the dataset\n",
        "data_path = '/content/drive/MyDrive/pbc_subset_v2'\n",
        "\n",
        "# Define the classes\n",
        "classes = ['monocyte', 'lymphocyte', 'neutrophil', 'basophil', 'ig', 'erythroblast', 'eosinophil', 'platelet']\n",
        "\n",
        "# Load and preprocess the data\n",
        "data = []\n",
        "labels = []\n",
        "for i, cls in enumerate(classes):\n",
        "    class_path = os.path.join(data_path, cls)\n",
        "    for img_name in os.listdir(class_path):\n",
        "        img_path = os.path.join(class_path, img_name)\n",
        "        img = cv2.imread(img_path)\n",
        "        img = cv2.resize(img, (200,200))  # Resize the image to 128x128\n",
        "        img = img.astype('float32') / 255  # Normalization\n",
        "        data.append(img)\n",
        "        labels.append(i)\n"
      ]
    },
    {
      "cell_type": "code",
      "execution_count": null,
      "metadata": {
        "id": "A4A6McKVH1-T"
      },
      "outputs": [],
      "source": [
        "# Convert the data and labels to numpy arrays\n",
        "data = np.array(data)\n",
        "labels = np.array(labels)"
      ]
    },
    {
      "cell_type": "code",
      "execution_count": null,
      "metadata": {
        "id": "KRrl6AJLH3-w"
      },
      "outputs": [],
      "source": [
        "# One-hot encoding\n",
        "labels = to_categorical(labels, num_classes=len(classes))"
      ]
    },
    {
      "cell_type": "code",
      "execution_count": null,
      "metadata": {
        "id": "NASL8cEFH6d4"
      },
      "outputs": [],
      "source": [
        "# Split the data into training, testing, and validation sets\n",
        "train_data, test_data, train_labels, test_labels = train_test_split(data, labels, test_size=0.20, random_state=42)\n",
        "train_data, val_data, train_labels, val_labels = train_test_split(train_data, train_labels, test_size=0.2, random_state=42)"
      ]
    },
    {
      "cell_type": "code",
      "source": [
        "len(train_data)"
      ],
      "metadata": {
        "colab": {
          "base_uri": "https://localhost:8080/"
        },
        "id": "1hDZ901narD2",
        "outputId": "69d11f1b-c211-4413-93b1-18a8e82ab8bd"
      },
      "execution_count": null,
      "outputs": [
        {
          "output_type": "execute_result",
          "data": {
            "text/plain": [
              "6312"
            ]
          },
          "metadata": {},
          "execution_count": 5
        }
      ]
    },
    {
      "cell_type": "code",
      "source": [
        "len(val_data)"
      ],
      "metadata": {
        "colab": {
          "base_uri": "https://localhost:8080/"
        },
        "id": "c4BHz_Vrav0t",
        "outputId": "4ad60c00-5374-46cf-a7aa-2031f1e03585"
      },
      "execution_count": null,
      "outputs": [
        {
          "output_type": "execute_result",
          "data": {
            "text/plain": [
              "1579"
            ]
          },
          "metadata": {},
          "execution_count": 6
        }
      ]
    },
    {
      "cell_type": "code",
      "source": [
        "len(test_data)"
      ],
      "metadata": {
        "colab": {
          "base_uri": "https://localhost:8080/"
        },
        "id": "FWILmjqGay9K",
        "outputId": "71bebfa7-6f13-44b5-ebc8-854b04955063"
      },
      "execution_count": null,
      "outputs": [
        {
          "output_type": "execute_result",
          "data": {
            "text/plain": [
              "1973"
            ]
          },
          "metadata": {},
          "execution_count": 7
        }
      ]
    },
    {
      "cell_type": "code",
      "source": [
        "import os\n",
        "import cv2\n",
        "import numpy as np\n",
        "from sklearn.model_selection import train_test_split\n",
        "from tensorflow.keras.utils import to_categorical\n",
        "from tensorflow.keras.applications import DenseNet121\n",
        "from tensorflow.keras.layers import Dense, Flatten\n",
        "from tensorflow.keras.models import Model\n",
        "from tensorflow.keras.optimizers import Adam\n",
        "\n",
        "# Set the path to the dataset\n",
        "data_path = '/content/drive/MyDrive/pbc_subset_v2'\n",
        "\n",
        "# Define the classes\n",
        "classes = ['monocyte', 'lymphocyte', 'neutrophil', 'basophil', 'ig', 'erythroblast', 'eosinophil', 'platelet']\n",
        "\n",
        "# Load and preprocess the data\n",
        "data = []\n",
        "labels = []\n",
        "for i, cls in enumerate(classes):\n",
        "    class_path = os.path.join(data_path, cls)\n",
        "    for img_name in os.listdir(class_path):\n",
        "        img_path = os.path.join(class_path, img_name)\n",
        "        img = cv2.imread(img_path)\n",
        "        img = cv2.resize(img, (224,224))\n",
        "        img = img.astype('float32') / 255\n",
        "        data.append(img)\n",
        "        labels.append(i)\n"
      ],
      "metadata": {
        "id": "pHwM0coxRrm0"
      },
      "execution_count": null,
      "outputs": []
    },
    {
      "cell_type": "code",
      "source": [
        "# Convert the data and labels to numpy arrays\n",
        "data = np.array(data)\n",
        "labels = np.array(labels)"
      ],
      "metadata": {
        "id": "aUgNkd5kR01z"
      },
      "execution_count": null,
      "outputs": []
    },
    {
      "cell_type": "code",
      "source": [
        "# One-hot encoding\n",
        "labels = to_categorical(labels, num_classes=len(classes))"
      ],
      "metadata": {
        "id": "WB6Q_ntbR1Tw"
      },
      "execution_count": null,
      "outputs": []
    },
    {
      "cell_type": "code",
      "source": [
        "# Split the data into training, testing, and validation sets\n",
        "train_data, test_data, train_labels, test_labels = train_test_split(data, labels, test_size=0.20, random_state=42)\n",
        "train_data, val_data, train_labels, val_labels = train_test_split(train_data, train_labels, test_size=0.2, random_state=42)"
      ],
      "metadata": {
        "id": "S8vE12LAR5fn"
      },
      "execution_count": null,
      "outputs": []
    },
    {
      "cell_type": "markdown",
      "source": [
        "## Our final densenet 121\n",
        "\n",
        "*   List item\n",
        "*   List item\n",
        "\n"
      ],
      "metadata": {
        "id": "SUuq13LfS-Az"
      }
    },
    {
      "cell_type": "code",
      "source": [
        "import tensorflow as tf\n",
        "from tensorflow import keras\n",
        "from tensorflow.keras import layers\n",
        "from tensorflow.keras.optimizers import Adam\n",
        "from tensorflow.keras.applications import DenseNet121\n",
        "from tensorflow.keras.callbacks import LearningRateScheduler\n",
        "# Load pre-trained DenseNet121 model\n",
        "base_model = DenseNet121(include_top=False, weights='imagenet')\n",
        "# Set the number of layers to unfreeze\n",
        "num_layers_to_unfreeze = 25\n",
        "# Unfreeze layers\n",
        "for layer in base_model.layers[-num_layers_to_unfreeze:]:\n",
        "    layer.trainable = True\n",
        "\n",
        "# Input layer\n",
        "inputs = keras.Input(shape=(224, 224, 3))\n",
        "\n",
        "# Data augmentation\n",
        "x = layers.experimental.preprocessing.RandomFlip(\"horizontal\")(inputs)\n",
        "x = layers.experimental.preprocessing.RandomFlip(\"vertical\")(x)\n",
        "x = layers.experimental.preprocessing.RandomRotation(60)(x)\n",
        "# Center cropping\n",
        "x = layers.experimental.preprocessing.CenterCrop(height=224, width=224)(x)\n",
        "\n",
        "# Pass the augmented input through the base model\n",
        "x = base_model(x, training=True)  # Set training to True for unfrozen layers\n",
        "\n",
        "# Global average pooling and dense output layer\n",
        "x = layers.GlobalAveragePooling2D()(x)\n",
        "outputs = layers.Dense(8, activation=\"softmax\")(x)\n",
        "\n",
        "# Create the model\n",
        "model_7 = keras.Model(inputs, outputs)\n",
        "\n",
        "# Define the learning rate schedule\n",
        "def lr_schedule(epoch):\n",
        "    if epoch < 7:\n",
        "        return 0.001\n",
        "    if epoch <13:\n",
        "        return 0.0001\n",
        "    else:\n",
        "      return 0.00001\n",
        "\n",
        "# Compile the model with Adam optimizer and custom learning rate\n",
        "model_7.compile(optimizer=Adam(learning_rate=lr_schedule(0)), loss='categorical_crossentropy', metrics=['accuracy'])\n",
        "\n",
        "# Define the learning rate scheduler callback\n",
        "lr_scheduler = LearningRateScheduler(lr_schedule)\n",
        "\n",
        "# Train the model for 15 epochs\n",
        "history_densnet_exp = model_7.fit(train_data, train_labels, validation_data=(val_data, val_labels),\n",
        "                    epochs=15, batch_size=32, callbacks=[lr_scheduler])"
      ],
      "metadata": {
        "colab": {
          "base_uri": "https://localhost:8080/"
        },
        "id": "g-9b_0i4S5Pq",
        "outputId": "394ed41f-e4f4-4157-857d-da9e5e8d1d48"
      },
      "execution_count": null,
      "outputs": [
        {
          "output_type": "stream",
          "name": "stdout",
          "text": [
            "Epoch 1/15\n",
            "198/198 [==============================] - 163s 401ms/step - loss: 0.2900 - accuracy: 0.9049 - val_loss: 0.1698 - val_accuracy: 0.9474 - lr: 0.0010\n",
            "Epoch 2/15\n",
            "198/198 [==============================] - 73s 368ms/step - loss: 0.1523 - accuracy: 0.9461 - val_loss: 0.1725 - val_accuracy: 0.9430 - lr: 0.0010\n",
            "Epoch 3/15\n",
            "198/198 [==============================] - 74s 372ms/step - loss: 0.1301 - accuracy: 0.9531 - val_loss: 0.1422 - val_accuracy: 0.9557 - lr: 0.0010\n",
            "Epoch 4/15\n",
            "198/198 [==============================] - 74s 375ms/step - loss: 0.1105 - accuracy: 0.9613 - val_loss: 0.2142 - val_accuracy: 0.9215 - lr: 0.0010\n",
            "Epoch 5/15\n",
            "198/198 [==============================] - 75s 377ms/step - loss: 0.1005 - accuracy: 0.9631 - val_loss: 0.1186 - val_accuracy: 0.9683 - lr: 0.0010\n",
            "Epoch 6/15\n",
            "198/198 [==============================] - 75s 378ms/step - loss: 0.0787 - accuracy: 0.9718 - val_loss: 0.0930 - val_accuracy: 0.9658 - lr: 0.0010\n",
            "Epoch 7/15\n",
            "198/198 [==============================] - 75s 378ms/step - loss: 0.0520 - accuracy: 0.9830 - val_loss: 0.1165 - val_accuracy: 0.9614 - lr: 0.0010\n",
            "Epoch 8/15\n",
            "198/198 [==============================] - 75s 378ms/step - loss: 0.0405 - accuracy: 0.9843 - val_loss: 0.0506 - val_accuracy: 0.9842 - lr: 1.0000e-04\n",
            "Epoch 9/15\n",
            "198/198 [==============================] - 75s 379ms/step - loss: 0.0256 - accuracy: 0.9914 - val_loss: 0.0453 - val_accuracy: 0.9880 - lr: 1.0000e-04\n",
            "Epoch 10/15\n",
            "198/198 [==============================] - 75s 379ms/step - loss: 0.0198 - accuracy: 0.9948 - val_loss: 0.0435 - val_accuracy: 0.9892 - lr: 1.0000e-04\n",
            "Epoch 11/15\n",
            "198/198 [==============================] - 75s 380ms/step - loss: 0.0239 - accuracy: 0.9910 - val_loss: 0.0399 - val_accuracy: 0.9886 - lr: 1.0000e-04\n",
            "Epoch 12/15\n",
            "198/198 [==============================] - 75s 379ms/step - loss: 0.0182 - accuracy: 0.9943 - val_loss: 0.0402 - val_accuracy: 0.9861 - lr: 1.0000e-04\n",
            "Epoch 13/15\n",
            "198/198 [==============================] - 75s 379ms/step - loss: 0.0164 - accuracy: 0.9951 - val_loss: 0.0393 - val_accuracy: 0.9899 - lr: 1.0000e-04\n",
            "Epoch 14/15\n",
            "198/198 [==============================] - 75s 380ms/step - loss: 0.0148 - accuracy: 0.9951 - val_loss: 0.0393 - val_accuracy: 0.9892 - lr: 1.0000e-05\n",
            "Epoch 15/15\n",
            "198/198 [==============================] - 76s 384ms/step - loss: 0.0136 - accuracy: 0.9951 - val_loss: 0.0386 - val_accuracy: 0.9899 - lr: 1.0000e-05\n"
          ]
        }
      ]
    },
    {
      "cell_type": "code",
      "source": [
        "model_7.save(\"/content/drive/MyDrive/densnet_experiment_4_l25_.h5\")"
      ],
      "metadata": {
        "id": "dNg40jeHX231"
      },
      "execution_count": null,
      "outputs": []
    },
    {
      "cell_type": "code",
      "source": [
        "import tensorflow as tf\n",
        "model_7 = tf.keras.models.load_model(\"/content/drive/MyDrive/densnet_experiment_4_l25_.h5\")"
      ],
      "metadata": {
        "id": "bedqWslYZeOn"
      },
      "execution_count": null,
      "outputs": []
    },
    {
      "cell_type": "code",
      "source": [
        "from sklearn.metrics import confusion_matrix, classification_report\n",
        "\n",
        "# Get the predictions\n",
        "preds = model_7.predict(test_data)\n",
        "preds_classes = np.argmax(preds, axis=1)\n",
        "\n",
        "# Get the actual labels\n",
        "actual_labels = np.argmax(test_labels, axis=1)\n",
        "\n",
        "# Print the classification report\n",
        "print(classification_report(actual_labels, preds_classes, target_names=classes))\n",
        "\n",
        "# Print the confusion matrix\n",
        "print(confusion_matrix(actual_labels, preds_classes))\n",
        "\n",
        "# Evaluate the model\n",
        "loss, accuracy = model_7.evaluate(test_data, test_labels, verbose=0)\n",
        "print(\"Test: accuracy = %f  ;  loss = %f\" % (accuracy, loss))\n"
      ],
      "metadata": {
        "colab": {
          "base_uri": "https://localhost:8080/"
        },
        "id": "uLE_aLgrYDzp",
        "outputId": "478f8b81-afb9-4436-af23-cd1028657723"
      },
      "execution_count": null,
      "outputs": [
        {
          "output_type": "stream",
          "name": "stdout",
          "text": [
            "62/62 [==============================] - 11s 145ms/step\n",
            "              precision    recall  f1-score   support\n",
            "\n",
            "    monocyte       0.98      0.99      0.99       264\n",
            "  lymphocyte       1.00      0.99      0.99       238\n",
            "  neutrophil       0.99      0.97      0.98       246\n",
            "    basophil       1.00      1.00      1.00       254\n",
            "          ig       0.97      0.98      0.97       241\n",
            "erythroblast       1.00      1.00      1.00       229\n",
            "  eosinophil       1.00      1.00      1.00       277\n",
            "    platelet       1.00      1.00      1.00       224\n",
            "\n",
            "    accuracy                           0.99      1973\n",
            "   macro avg       0.99      0.99      0.99      1973\n",
            "weighted avg       0.99      0.99      0.99      1973\n",
            "\n",
            "[[262   1   0   0   1   0   0   0]\n",
            " [  2 236   0   0   0   0   0   0]\n",
            " [  0   0 239   0   6   0   1   0]\n",
            " [  0   0   0 253   1   0   0   0]\n",
            " [  3   0   2   1 235   0   0   0]\n",
            " [  0   0   0   0   0 228   0   1]\n",
            " [  0   0   0   0   0   0 277   0]\n",
            " [  0   0   0   0   0   0   0 224]]\n",
            "Test: accuracy = 0.990370  ;  loss = 0.055461\n"
          ]
        }
      ]
    },
    {
      "cell_type": "code",
      "source": [
        "import pandas as pd\n",
        "import matplotlib.pyplot as plt\n",
        "import seaborn as sns\n",
        "from sklearn.metrics import confusion_matrix\n",
        "\n",
        "# Compute the confusion matrix\n",
        "cm = confusion_matrix(actual_labels, preds_classes)\n",
        "\n",
        "# Create a DataFrame from the confusion matrix\n",
        "cm_df = pd.DataFrame(cm, index=classes, columns=classes)\n",
        "\n",
        "# Plot the confusion matrix using seaborn\n",
        "plt.figure(figsize=(10, 8))\n",
        "sns.heatmap(cm_df, annot=True, cmap='Blues', fmt='g')\n",
        "plt.title('Confusion Matrix')\n",
        "plt.ylabel('True label')\n",
        "plt.xlabel('Predicted label')\n",
        "plt.show()"
      ],
      "metadata": {
        "colab": {
          "base_uri": "https://localhost:8080/",
          "height": 789
        },
        "id": "WSmMSzmkYfBp",
        "outputId": "583ac591-39e2-496b-96a1-7f926980376e"
      },
      "execution_count": null,
      "outputs": [
        {
          "output_type": "display_data",
          "data": {
            "text/plain": [
              "<Figure size 1000x800 with 2 Axes>"
            ],
            "image/png": "[encoded data removed]"
          },
          "metadata": {}
        }
      ]
    },
    {
      "cell_type": "code",
      "source": [
        "from sklearn.metrics import precision_score, recall_score, accuracy_score, f1_score, cohen_kappa_score\n",
        "\n",
        "# Accuracy\n",
        "accuracy = accuracy_score(actual_labels, preds_classes)\n",
        "print(\"Accuracy: \", accuracy)\n",
        "\n",
        "# Precision (also called Sensitivity)\n",
        "precision = precision_score(actual_labels, preds_classes, average='micro')\n",
        "print(\"Precision: \", precision)\n",
        "\n",
        "# Recall (also called Sensitivity)\n",
        "recall = recall_score(actual_labels, preds_classes, average='micro')\n",
        "print(\"Recall: \", recall)\n",
        "\n",
        "# F1 score\n",
        "f1 = f1_score(actual_labels, preds_classes, average='micro')\n",
        "print(\"F1 score: \", f1)\n",
        "\n",
        "# Cohen's Kappa\n",
        "kappa = cohen_kappa_score(actual_labels, preds_classes)\n",
        "print(\"Cohen's Kappa: \", kappa)\n"
      ],
      "metadata": {
        "colab": {
          "base_uri": "https://localhost:8080/"
        },
        "id": "uSft5APcYdnS",
        "outputId": "aa126ca6-a59f-4f1e-de7f-417a5175ff45"
      },
      "execution_count": null,
      "outputs": [
        {
          "output_type": "stream",
          "name": "stdout",
          "text": [
            "Accuracy:  0.9903699949315763\n",
            "Precision:  0.9903699949315763\n",
            "Recall:  0.9903699949315763\n",
            "F1 score:  0.9903699949315763\n",
            "Cohen's Kappa:  0.9889868889716709\n"
          ]
        }
      ]
    },
    {
      "cell_type": "code",
      "source": [
        "import pandas as pd\n",
        "from sklearn.metrics import accuracy_score\n",
        "from sklearn.metrics import classification_report\n",
        "def sensitivity_specificity_accuracy(y_true, y_pred, classes):\n",
        "    # Calculate the confusion matrix\n",
        "    cm = confusion_matrix(y_true, y_pred)\n",
        "    metrics = []\n",
        "    for i, class_ in enumerate(classes):\n",
        "        TP = np.diag(cm)[i]\n",
        "        FP = cm[:,i].sum() - TP\n",
        "        FN = cm[i,:].sum() - TP\n",
        "        TN = cm.sum() - (FP + FN + TP)\n",
        "\n",
        "        sensitivity = TP / (TP + FN)\n",
        "        specificity = TN / (TN + FP)\n",
        "        accuracy = accuracy_score(y_true == i, y_pred == i)\n",
        "\n",
        "        metrics.append([class_, sensitivity, specificity, accuracy])\n",
        "\n",
        "    df = pd.DataFrame(metrics, columns=['Class', 'Sensitivity', 'Specificity', 'Accuracy'])\n",
        "    return df\n",
        "\n",
        "# Get the predictions\n",
        "preds = model_7.predict(test_data)\n",
        "preds_classes = np.argmax(preds, axis=1)\n",
        "\n",
        "# Get the actual labels\n",
        "actual_labels = np.argmax(test_labels, axis=1)\n",
        "\n",
        "# Print the classification report\n",
        "print(classification_report(actual_labels, preds_classes, target_names=classes))\n",
        "\n",
        "# Print the confusion matrix\n",
        "print(confusion_matrix(actual_labels, preds_classes))\n",
        "\n",
        "# Print sensitivity, specificity, and accuracy\n",
        "df_metrics = sensitivity_specificity_accuracy(actual_labels, preds_classes, classes)\n",
        "print(df_metrics)\n",
        "# Evaluate the model\n",
        "loss, accuracy = model_7.evaluate(test_data, test_labels, verbose=0)\n",
        "print(\"Test: accuracy = %f  ;  loss = %f\" % (accuracy, loss))"
      ],
      "metadata": {
        "colab": {
          "base_uri": "https://localhost:8080/"
        },
        "id": "bOhxHAgqYsX_",
        "outputId": "50595024-2dbb-4a06-d754-9941c8beaa3b"
      },
      "execution_count": null,
      "outputs": [
        {
          "output_type": "stream",
          "name": "stdout",
          "text": [
            "62/62 [==============================] - 6s 105ms/step\n",
            "              precision    recall  f1-score   support\n",
            "\n",
            "    monocyte       0.98      0.99      0.99       264\n",
            "  lymphocyte       1.00      0.99      0.99       238\n",
            "  neutrophil       0.99      0.97      0.98       246\n",
            "    basophil       1.00      1.00      1.00       254\n",
            "          ig       0.97      0.98      0.97       241\n",
            "erythroblast       1.00      1.00      1.00       229\n",
            "  eosinophil       1.00      1.00      1.00       277\n",
            "    platelet       1.00      1.00      1.00       224\n",
            "\n",
            "    accuracy                           0.99      1973\n",
            "   macro avg       0.99      0.99      0.99      1973\n",
            "weighted avg       0.99      0.99      0.99      1973\n",
            "\n",
            "[[262   1   0   0   1   0   0   0]\n",
            " [  2 236   0   0   0   0   0   0]\n",
            " [  0   0 239   0   6   0   1   0]\n",
            " [  0   0   0 253   1   0   0   0]\n",
            " [  3   0   2   1 235   0   0   0]\n",
            " [  0   0   0   0   0 228   0   1]\n",
            " [  0   0   0   0   0   0 277   0]\n",
            " [  0   0   0   0   0   0   0 224]]\n",
            "          Class  Sensitivity  Specificity  Accuracy\n",
            "0      monocyte     0.992424     0.997074  0.996452\n",
            "1    lymphocyte     0.991597     0.999424  0.998479\n",
            "2    neutrophil     0.971545     0.998842  0.995438\n",
            "3      basophil     0.996063     0.999418  0.998986\n",
            "4            ig     0.975104     0.995381  0.992904\n",
            "5  erythroblast     0.995633     1.000000  0.999493\n",
            "6    eosinophil     1.000000     0.999410  0.999493\n",
            "7      platelet     1.000000     0.999428  0.999493\n",
            "Test: accuracy = 0.990370  ;  loss = 0.055461\n"
          ]
        }
      ]
    }
  ],
  "metadata": {
    "accelerator": "GPU",
    "colab": {
      "machine_shape": "hm",
      "provenance": [],
      "gpuType": "T4",
      "toc_visible": true
    },
    "kernelspec": {
      "display_name": "Python 3",
      "name": "python3"
    },
    "language_info": {
      "name": "python"
    }
  },
  "nbformat": 4,
  "nbformat_minor": 0
}